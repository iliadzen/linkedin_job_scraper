{
 "cells": [
  {
   "cell_type": "code",
   "execution_count": 9,
   "metadata": {},
   "outputs": [],
   "source": [
    "import pandas as pd\n",
    "from selenium import webdriver\n",
    "from selenium.webdriver.chrome.service import Service\n",
    "from selenium.webdriver.chrome.options import Options\n",
    "\n",
    "from linkedin_job_scraper.job_search import JobSearch\n",
    "from linkedin_job_scraper.job import Job"
   ]
  },
  {
   "cell_type": "code",
   "execution_count": 2,
   "metadata": {},
   "outputs": [],
   "source": [
    "chrome_options = Options()\n",
    "driver = webdriver.Chrome(service=Service(), options=chrome_options)"
   ]
  },
  {
   "cell_type": "code",
   "execution_count": 3,
   "metadata": {},
   "outputs": [],
   "source": [
    "params = {\n",
    "    'keywords': 'Data Engineer',\n",
    "    'location': 'Germany',\n",
    "    'posted_ago_max': 86400\n",
    "}"
   ]
  },
  {
   "cell_type": "code",
   "execution_count": 4,
   "metadata": {},
   "outputs": [],
   "source": [
    "search = JobSearch(\n",
    "    driver,\n",
    "    **params\n",
    ")"
   ]
  },
  {
   "cell_type": "code",
   "execution_count": 5,
   "metadata": {},
   "outputs": [
    {
     "data": {
      "text/plain": [
       "'https://www.linkedin.com/jobs/search/?currentJobId=&keywords=Data%20Engineer&location=Germany&distance=25&f_TPR=r86400'"
      ]
     },
     "execution_count": 5,
     "metadata": {},
     "output_type": "execute_result"
    }
   ],
   "source": [
    "search.get_search_url()"
   ]
  },
  {
   "cell_type": "code",
   "execution_count": 7,
   "metadata": {},
   "outputs": [],
   "source": [
    "jobs = search.get_jobs()"
   ]
  },
  {
   "cell_type": "code",
   "execution_count": 11,
   "metadata": {},
   "outputs": [
    {
     "data": {
      "text/html": [
       "<div>\n",
       "<style scoped>\n",
       "    .dataframe tbody tr th:only-of-type {\n",
       "        vertical-align: middle;\n",
       "    }\n",
       "\n",
       "    .dataframe tbody tr th {\n",
       "        vertical-align: top;\n",
       "    }\n",
       "\n",
       "    .dataframe thead th {\n",
       "        text-align: right;\n",
       "    }\n",
       "</style>\n",
       "<table border=\"1\" class=\"dataframe\">\n",
       "  <thead>\n",
       "    <tr style=\"text-align: right;\">\n",
       "      <th></th>\n",
       "      <th>job_title</th>\n",
       "      <th>company_name</th>\n",
       "      <th>posted</th>\n",
       "      <th>job_link</th>\n",
       "      <th>location</th>\n",
       "    </tr>\n",
       "  </thead>\n",
       "  <tbody>\n",
       "    <tr>\n",
       "      <th>0</th>\n",
       "      <td>Data Engineer</td>\n",
       "      <td>Payrails</td>\n",
       "      <td>16 hours ago</td>\n",
       "      <td>https://de.linkedin.com/jobs/view/data-enginee...</td>\n",
       "      <td>Berlin, Berlin, Germany</td>\n",
       "    </tr>\n",
       "    <tr>\n",
       "      <th>1</th>\n",
       "      <td>Senior Data Engineer</td>\n",
       "      <td>Avenue Code</td>\n",
       "      <td>50 minutes ago</td>\n",
       "      <td>https://de.linkedin.com/jobs/view/senior-data-...</td>\n",
       "      <td>Munich, Bavaria, Germany</td>\n",
       "    </tr>\n",
       "    <tr>\n",
       "      <th>2</th>\n",
       "      <td>Senior Data Engineer</td>\n",
       "      <td>Next Ventures</td>\n",
       "      <td>21 hours ago</td>\n",
       "      <td>https://de.linkedin.com/jobs/view/senior-data-...</td>\n",
       "      <td>Dortmund, North Rhine-Westphalia, Germany</td>\n",
       "    </tr>\n",
       "    <tr>\n",
       "      <th>3</th>\n",
       "      <td>Data Integration Engineer (w/m/d)</td>\n",
       "      <td>Daimler Truck AG</td>\n",
       "      <td>18 hours ago</td>\n",
       "      <td>https://de.linkedin.com/jobs/view/data-integra...</td>\n",
       "      <td>Stuttgart Region</td>\n",
       "    </tr>\n",
       "    <tr>\n",
       "      <th>4</th>\n",
       "      <td>Senior Data Engineer</td>\n",
       "      <td>Payrails</td>\n",
       "      <td>23 hours ago</td>\n",
       "      <td>https://de.linkedin.com/jobs/view/senior-data-...</td>\n",
       "      <td>Berlin, Berlin, Germany</td>\n",
       "    </tr>\n",
       "    <tr>\n",
       "      <th>...</th>\n",
       "      <td>...</td>\n",
       "      <td>...</td>\n",
       "      <td>...</td>\n",
       "      <td>...</td>\n",
       "      <td>...</td>\n",
       "    </tr>\n",
       "    <tr>\n",
       "      <th>94</th>\n",
       "      <td>Software Engineer - Solutions Engineering</td>\n",
       "      <td>Canonical</td>\n",
       "      <td>15 hours ago</td>\n",
       "      <td>https://de.linkedin.com/jobs/view/software-eng...</td>\n",
       "      <td>Hamburg, Hamburg, Germany</td>\n",
       "    </tr>\n",
       "    <tr>\n",
       "      <th>95</th>\n",
       "      <td>Software Engineer - Solutions Engineering</td>\n",
       "      <td>Canonical</td>\n",
       "      <td>15 hours ago</td>\n",
       "      <td>https://de.linkedin.com/jobs/view/software-eng...</td>\n",
       "      <td>Nuremberg, Bavaria, Germany</td>\n",
       "    </tr>\n",
       "    <tr>\n",
       "      <th>96</th>\n",
       "      <td>Java Developer - Automotive Industry - €90,000...</td>\n",
       "      <td>Optimus Search</td>\n",
       "      <td>21 hours ago</td>\n",
       "      <td>https://de.linkedin.com/jobs/view/java-develop...</td>\n",
       "      <td>Berlin, Germany</td>\n",
       "    </tr>\n",
       "    <tr>\n",
       "      <th>97</th>\n",
       "      <td>Software Engineer - Solutions Engineering</td>\n",
       "      <td>Canonical</td>\n",
       "      <td>15 hours ago</td>\n",
       "      <td>https://de.linkedin.com/jobs/view/software-eng...</td>\n",
       "      <td>Düsseldorf, North Rhine-Westphalia, Germany</td>\n",
       "    </tr>\n",
       "    <tr>\n",
       "      <th>98</th>\n",
       "      <td>Senior Backend Software Engineer (Golang) - On...</td>\n",
       "      <td>TieTalent</td>\n",
       "      <td>10 hours ago</td>\n",
       "      <td>https://de.linkedin.com/jobs/view/senior-backe...</td>\n",
       "      <td>Berlin, Berlin, Germany</td>\n",
       "    </tr>\n",
       "  </tbody>\n",
       "</table>\n",
       "<p>99 rows × 5 columns</p>\n",
       "</div>"
      ],
      "text/plain": [
       "                                            job_title      company_name  \\\n",
       "0                                       Data Engineer          Payrails   \n",
       "1                                Senior Data Engineer       Avenue Code   \n",
       "2                                Senior Data Engineer     Next Ventures   \n",
       "3                   Data Integration Engineer (w/m/d)  Daimler Truck AG   \n",
       "4                                Senior Data Engineer          Payrails   \n",
       "..                                                ...               ...   \n",
       "94          Software Engineer - Solutions Engineering         Canonical   \n",
       "95          Software Engineer - Solutions Engineering         Canonical   \n",
       "96  Java Developer - Automotive Industry - €90,000...    Optimus Search   \n",
       "97          Software Engineer - Solutions Engineering         Canonical   \n",
       "98  Senior Backend Software Engineer (Golang) - On...         TieTalent   \n",
       "\n",
       "            posted                                           job_link  \\\n",
       "0     16 hours ago  https://de.linkedin.com/jobs/view/data-enginee...   \n",
       "1   50 minutes ago  https://de.linkedin.com/jobs/view/senior-data-...   \n",
       "2     21 hours ago  https://de.linkedin.com/jobs/view/senior-data-...   \n",
       "3     18 hours ago  https://de.linkedin.com/jobs/view/data-integra...   \n",
       "4     23 hours ago  https://de.linkedin.com/jobs/view/senior-data-...   \n",
       "..             ...                                                ...   \n",
       "94    15 hours ago  https://de.linkedin.com/jobs/view/software-eng...   \n",
       "95    15 hours ago  https://de.linkedin.com/jobs/view/software-eng...   \n",
       "96    21 hours ago  https://de.linkedin.com/jobs/view/java-develop...   \n",
       "97    15 hours ago  https://de.linkedin.com/jobs/view/software-eng...   \n",
       "98    10 hours ago  https://de.linkedin.com/jobs/view/senior-backe...   \n",
       "\n",
       "                                       location  \n",
       "0                       Berlin, Berlin, Germany  \n",
       "1                      Munich, Bavaria, Germany  \n",
       "2     Dortmund, North Rhine-Westphalia, Germany  \n",
       "3                              Stuttgart Region  \n",
       "4                       Berlin, Berlin, Germany  \n",
       "..                                          ...  \n",
       "94                    Hamburg, Hamburg, Germany  \n",
       "95                  Nuremberg, Bavaria, Germany  \n",
       "96                              Berlin, Germany  \n",
       "97  Düsseldorf, North Rhine-Westphalia, Germany  \n",
       "98                      Berlin, Berlin, Germany  \n",
       "\n",
       "[99 rows x 5 columns]"
      ]
     },
     "execution_count": 11,
     "metadata": {},
     "output_type": "execute_result"
    }
   ],
   "source": [
    "jobs = pd.DataFrame(jobs)\n",
    "jobs"
   ]
  },
  {
   "cell_type": "code",
   "execution_count": 13,
   "metadata": {},
   "outputs": [],
   "source": [
    "job = Job(driver, jobs.iloc[0].job_link)"
   ]
  },
  {
   "cell_type": "code",
   "execution_count": 16,
   "metadata": {},
   "outputs": [],
   "source": [
    "description = job.get_job_description()"
   ]
  },
  {
   "cell_type": "code",
   "execution_count": 17,
   "metadata": {},
   "outputs": [
    {
     "name": "stdout",
     "output_type": "stream",
     "text": [
      "The Company\n",
      "\n",
      "Payrails is an innovative technology company with a team that has many years of experience in the payment industry and a real-life understanding of the merchants’ needs. We have seen the complexity firsthand and we have learned from all the challenges we've faced. Now we want to help leading technology companies around the world accept payments and build financial services with minimal upfront investments.\n",
      "\n",
      "Our vision at Payrails is to reimagine payments. We do this by removing heavy reliance on Engineering efforts using composable building blocks that put the control firmly in the hands of our customers. We exist to help our customers become more productive and flexible, impacting directly on their ability to grow.\n",
      "\n",
      "We are joined in our mission by top-tier clients Andreessen Horowitz, HV Capital, EQT and General Catalyst alongside a great cast of knowledgeable angel investors to enable us to solve the growing complexity of payments.\n",
      "\n",
      "At Payrails, we are committed to building a team full of the most talented people. Excellence is part of our values and we understand that in order to achieve this, we need to build an environment where skilled people can work openly, collaboratively, and with the utmost trust in one another. We believe people thrive the most when they are fully aware of what the business is trying to achieve, why it is important to the market, and what challenges lie in the way to reaching our goals. In such an environment we believe people can truly excel, grow and enjoy working together. We try hard to be a company where everyone is inspired and feels a sense of responsibility to do the right thing to help us bring our vision to life. Succeeding with us is about finding solutions to the most pressing problems and executing them effectively.\n",
      "\n",
      "Your Team\n",
      "\n",
      "Payrails is a true tech company: our Product is designed by engineers for engineers. We believe in quality before delivery: our mission is to provide an outstanding Payment experience with a strong eye on automation, resilience, and scalability. Our engineering culture is focused on 3 main pillars:\n",
      "\n",
      "We aim for operational excellence\n",
      "We promote open communication and quick feedback\n",
      "We share knowledge and learn continuously\n",
      "\n",
      "Our Tech team offers you the chance to work alongside a group of highly ambitious and knowledgeable Engineers while being faced with complex problems that affect customers on a global scale.\n",
      "\n",
      "What You Will Be Doing\n",
      "\n",
      "Work alongside a dynamic team of talented data analysts, scientists, and engineers to craft innovative data products and services that drive business success.\n",
      "Develop and maintain robust, scalable, and observable data pipelines.\n",
      "Contribute to tooling that improves analytics workflows, CI/CD pipelines, and observability.\n",
      "Collaborate with cross-functional teams to transform complex requirements into efficient, impactful solutions.\n",
      "\n",
      "You'll be great for this role if\n",
      "\n",
      "You have experience in data engineering roles building reliable, scalable and observable production-grade data pipelines and services.\n",
      "You have strong proficiency in Python.\n",
      "You are proficient in SQL, data modeling and operating with OLAP databases (e.g. Snowflake, Bigquery) at scale.\n",
      "You develop and maintain data pipelines using workflow management platforms such as Apache Airflow.\n",
      "You are knowledgeable about containerization technologies such as Docker and container orchestration platforms like Kubernetes.\n",
      "You communicate effectively and are proficient in English.\n",
      "You work independently and collaboratively in a fast-paced environment.\n",
      "FinTech or payments domain experience is a plus.\n",
      "\n",
      "Why You should join Payrails\n",
      "\n",
      "You can truly create your own path by taking responsibility and implementing your own ideas\n",
      "We offer visa and relocation support to you and your family where required\n",
      "We offer a hybrid working environment\n",
      "You have 27 annual vacation days + 1 day of paid birthday leave for you to have fun and party without any worries!\n",
      "We get together regularly for team lunches and events\n",
      "You help us shape the future of payments\n",
      "\n",
      "At Payrails, we prioritize a culture of inclusivity and diversity, evaluating candidates solely based on their skills and potential, regardless of age, gender, identity, ethnicity, sexual orientation, disability status, or religion. We welcome applications from individuals of all backgrounds and identities. In line with our commitment to fairness, we kindly request applicants to refrain from including personal details such as a picture, age, or marital status in their CVs.\n",
      "Show less\n"
     ]
    }
   ],
   "source": [
    "print(description)"
   ]
  },
  {
   "cell_type": "code",
   "execution_count": null,
   "metadata": {},
   "outputs": [],
   "source": []
  }
 ],
 "metadata": {
  "kernelspec": {
   "display_name": "venv",
   "language": "python",
   "name": "python3"
  },
  "language_info": {
   "codemirror_mode": {
    "name": "ipython",
    "version": 3
   },
   "file_extension": ".py",
   "mimetype": "text/x-python",
   "name": "python",
   "nbconvert_exporter": "python",
   "pygments_lexer": "ipython3",
   "version": "3.10.12"
  }
 },
 "nbformat": 4,
 "nbformat_minor": 2
}
